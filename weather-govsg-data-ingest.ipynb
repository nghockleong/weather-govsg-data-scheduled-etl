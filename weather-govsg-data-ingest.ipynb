{
 "cells": [
  {
   "cell_type": "code",
   "execution_count": 1,
   "metadata": {},
   "outputs": [],
   "source": [
    "import requests\n",
    "import pandas as pd\n",
    "import datetime as datetime\n",
    "from pyspark.sql import SparkSession"
   ]
  },
  {
   "cell_type": "code",
   "execution_count": 146,
   "metadata": {},
   "outputs": [],
   "source": [
    "'''\n",
    "dt takes a format of either YYYY-MM-DD or YYYY-MM-DDTHH:mm:ss\n",
    "and returns response as JSON if successful, else print error message and return None\n",
    "'''\n",
    "def extract_data_from_weather_api_as_json(url, params):\n",
    "    weather_response = requests.get(url, params = params)\n",
    "    response_status = weather_response.status_code\n",
    "    try:\n",
    "        weather_json = weather_response.json()\n",
    "    except:\n",
    "        print(f'Error: Response cannot be converted to JSON object.')\n",
    "        return\n",
    "    if response_status == 200:\n",
    "        return weather_json\n",
    "    elif response_status == 400 or response_status == 404:\n",
    "        print(f'Error {response_status}: {weather_json['errorMsg']}')\n",
    "    else:\n",
    "        print(f'Error {response_status}: check your inputs')\n",
    "    "
   ]
  },
  {
   "cell_type": "code",
   "execution_count": null,
   "metadata": {},
   "outputs": [],
   "source": [
    "# Converts weather JSON for\n",
    "def convert_weather_api_data_to_df(url, params):\n",
    "    weather_json = extract_data_from_weather_api_as_json(url, params)\n",
    "    if not weather_json:\n",
    "        print('API call did not provide valid response to be converted to JSON')\n",
    "    data = weather_json['data']\n",
    "    pagination_token = weather_json['data'].get('PaginationToken')\n",
    "    if pagination_token:\n",
    "        while pagination_token:\n",
    "            lst_of_readings = data['readings'] # up to 100 readings at once. need pagination token to go next\n",
    "            "
   ]
  },
  {
   "cell_type": "code",
   "execution_count": 154,
   "metadata": {},
   "outputs": [],
   "source": [
    "# 1 time extract data from 2020 to 2024\n",
    "wind_speed_json_by_min = extract_data_from_weather_api_as_json('https://api-open.data.gov.sg/v2/real-time/api/wind-speed', {'date': '2025-01-01T20:12:00'})\n",
    "station_info = pd.DataFrame(wind_speed_json_by_min['data']['stations']) # timestamp of reading in YYYY-MM-DDTHH:MM:SS±HH:MM format\n",
    "station_info[['latitude', 'longitude']] = pd.DataFrame(station_info['location'].tolist()) # unpack geospatial coordinates\n",
    "station_info.drop('location', inplace = True, axis = 1) # remove location column\n",
    "\n",
    "date_extracted = wind_speed_json_by_min['data']['readings'][0]['timestamp']\n",
    "station_id_and_reading = pd.DataFrame(wind_speed_json_by_min['data']['readings'][0]['data']) # stationID and reading\n",
    "station_id_and_reading['timestamp'] = date_extracted"
   ]
  },
  {
   "cell_type": "code",
   "execution_count": 173,
   "metadata": {},
   "outputs": [
    {
     "data": {
      "text/html": [
       "<div>\n",
       "<style scoped>\n",
       "    .dataframe tbody tr th:only-of-type {\n",
       "        vertical-align: middle;\n",
       "    }\n",
       "\n",
       "    .dataframe tbody tr th {\n",
       "        vertical-align: top;\n",
       "    }\n",
       "\n",
       "    .dataframe thead th {\n",
       "        text-align: right;\n",
       "    }\n",
       "</style>\n",
       "<table border=\"1\" class=\"dataframe\">\n",
       "  <thead>\n",
       "    <tr style=\"text-align: right;\">\n",
       "      <th></th>\n",
       "      <th>stationId</th>\n",
       "      <th>value</th>\n",
       "      <th>timestamp</th>\n",
       "    </tr>\n",
       "  </thead>\n",
       "  <tbody>\n",
       "    <tr>\n",
       "      <th>0</th>\n",
       "      <td>S108</td>\n",
       "      <td>7.9</td>\n",
       "      <td>2025-01-01T23:59:00+08:00</td>\n",
       "    </tr>\n",
       "    <tr>\n",
       "      <th>1</th>\n",
       "      <td>S109</td>\n",
       "      <td>3.1</td>\n",
       "      <td>2025-01-01T23:59:00+08:00</td>\n",
       "    </tr>\n",
       "    <tr>\n",
       "      <th>2</th>\n",
       "      <td>S106</td>\n",
       "      <td>2.7</td>\n",
       "      <td>2025-01-01T23:59:00+08:00</td>\n",
       "    </tr>\n",
       "    <tr>\n",
       "      <th>3</th>\n",
       "      <td>S117</td>\n",
       "      <td>1.8</td>\n",
       "      <td>2025-01-01T23:59:00+08:00</td>\n",
       "    </tr>\n",
       "    <tr>\n",
       "      <th>4</th>\n",
       "      <td>S107</td>\n",
       "      <td>5.6</td>\n",
       "      <td>2025-01-01T23:59:00+08:00</td>\n",
       "    </tr>\n",
       "    <tr>\n",
       "      <th>...</th>\n",
       "      <td>...</td>\n",
       "      <td>...</td>\n",
       "      <td>...</td>\n",
       "    </tr>\n",
       "    <tr>\n",
       "      <th>9</th>\n",
       "      <td>S50</td>\n",
       "      <td>3.1</td>\n",
       "      <td>2025-01-01T22:20:00+08:00</td>\n",
       "    </tr>\n",
       "    <tr>\n",
       "      <th>10</th>\n",
       "      <td>S43</td>\n",
       "      <td>4.8</td>\n",
       "      <td>2025-01-01T22:20:00+08:00</td>\n",
       "    </tr>\n",
       "    <tr>\n",
       "      <th>11</th>\n",
       "      <td>S06</td>\n",
       "      <td>1.8</td>\n",
       "      <td>2025-01-01T22:20:00+08:00</td>\n",
       "    </tr>\n",
       "    <tr>\n",
       "      <th>12</th>\n",
       "      <td>S111</td>\n",
       "      <td>4.7</td>\n",
       "      <td>2025-01-01T22:20:00+08:00</td>\n",
       "    </tr>\n",
       "    <tr>\n",
       "      <th>13</th>\n",
       "      <td>S121</td>\n",
       "      <td>3.4</td>\n",
       "      <td>2025-01-01T22:20:00+08:00</td>\n",
       "    </tr>\n",
       "  </tbody>\n",
       "</table>\n",
       "<p>1365 rows × 3 columns</p>\n",
       "</div>"
      ],
      "text/plain": [
       "   stationId  value                  timestamp\n",
       "0       S108    7.9  2025-01-01T23:59:00+08:00\n",
       "1       S109    3.1  2025-01-01T23:59:00+08:00\n",
       "2       S106    2.7  2025-01-01T23:59:00+08:00\n",
       "3       S117    1.8  2025-01-01T23:59:00+08:00\n",
       "4       S107    5.6  2025-01-01T23:59:00+08:00\n",
       "..       ...    ...                        ...\n",
       "9        S50    3.1  2025-01-01T22:20:00+08:00\n",
       "10       S43    4.8  2025-01-01T22:20:00+08:00\n",
       "11       S06    1.8  2025-01-01T22:20:00+08:00\n",
       "12      S111    4.7  2025-01-01T22:20:00+08:00\n",
       "13      S121    3.4  2025-01-01T22:20:00+08:00\n",
       "\n",
       "[1365 rows x 3 columns]"
      ]
     },
     "execution_count": 173,
     "metadata": {},
     "output_type": "execute_result"
    }
   ],
   "source": [
    "pd.concat([pd.DataFrame(val['data']).assign(timestamp = val['timestamp']) for val in wind_speed_json_by_min['data']['readings']])"
   ]
  },
  {
   "cell_type": "code",
   "execution_count": 159,
   "metadata": {},
   "outputs": [],
   "source": [
    "# 1 time extract data from 2020 to 2024\n",
    "wind_speed_json_by_min = extract_data_from_weather_api_as_json('https://api-open.data.gov.sg/v2/real-time/api/wind-speed', {'date': '2025-01-01'})\n",
    "station_info = pd.DataFrame(wind_speed_json_by_min['data']['stations']) # timestamp of reading in YYYY-MM-DDTHH:MM:SS±HH:MM format\n",
    "station_info[['latitude', 'longitude']] = pd.DataFrame(station_info['location'].tolist()) # unpack geospatial coordinates\n",
    "station_info.drop('location', inplace = True, axis = 1) # remove location column\n",
    "\n",
    "date_extracted = wind_speed_json_by_min['data']['readings'][0]['timestamp']\n",
    "station_id_and_reading = pd.DataFrame(wind_speed_json_by_min['data']['readings'][0]['data']) # stationID and reading\n",
    "station_id_and_reading['timestamp'] = date_extracted\n"
   ]
  },
  {
   "cell_type": "code",
   "execution_count": null,
   "metadata": {},
   "outputs": [],
   "source": [
    "wind_speed_json['data']['paginationToken']#['data']['readings'][-1]\n",
    "test = requests.get('https://api-open.data.gov.sg/v2/real-time/api/wind-speed', params = {'date': '2025-01-01', 'paginationToken': 'b2Zmc2V0PTEwMA=='}).json()\n",
    "#extract_data_from_weather_api_as_json('https://api-open.data.gov.sg/v2/real-time/api/wind-speed', params = '2025-01-01', )"
   ]
  },
  {
   "cell_type": "code",
   "execution_count": 82,
   "metadata": {},
   "outputs": [
    {
     "data": {
      "text/plain": [
       "'b2Zmc2V0PTIwMA=='"
      ]
     },
     "execution_count": 82,
     "metadata": {},
     "output_type": "execute_result"
    }
   ],
   "source": [
    "test['data']['paginationToken']"
   ]
  }
 ],
 "metadata": {
  "kernelspec": {
   "display_name": "Python 3",
   "language": "python",
   "name": "python3"
  },
  "language_info": {
   "codemirror_mode": {
    "name": "ipython",
    "version": 3
   },
   "file_extension": ".py",
   "mimetype": "text/x-python",
   "name": "python",
   "nbconvert_exporter": "python",
   "pygments_lexer": "ipython3",
   "version": "3.12.8"
  }
 },
 "nbformat": 4,
 "nbformat_minor": 2
}
